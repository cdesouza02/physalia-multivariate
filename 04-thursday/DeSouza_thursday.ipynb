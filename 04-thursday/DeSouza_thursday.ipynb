{
 "cells": [
  {
   "cell_type": "code",
   "execution_count": 1,
   "id": "772a7e0f-61b0-415a-b821-8c69006ae412",
   "metadata": {},
   "outputs": [
    {
     "name": "stderr",
     "output_type": "stream",
     "text": [
      "Updating HTML index of packages in '.Library'\n",
      "\n",
      "Making 'packages.html' ...\n",
      " done\n",
      "\n",
      "Loading required package: permute\n",
      "\n",
      "Loading required package: lattice\n",
      "\n",
      "\n",
      "Attaching package: ‘dplyr’\n",
      "\n",
      "\n",
      "The following objects are masked from ‘package:stats’:\n",
      "\n",
      "    filter, lag\n",
      "\n",
      "\n",
      "The following objects are masked from ‘package:base’:\n",
      "\n",
      "    intersect, setdiff, setequal, union\n",
      "\n",
      "\n"
     ]
    }
   ],
   "source": [
    "install.packages(\"vegan\")\n",
    "library(\"vegan\")\n",
    "library(\"dplyr\")\n",
    "library(\"readxl\")"
   ]
  },
  {
   "cell_type": "code",
   "execution_count": 2,
   "id": "feec553d-f225-4c10-819e-5e945b539844",
   "metadata": {},
   "outputs": [],
   "source": [
    "library(\"permute\")\n",
    "library(\"tidyr\")\n",
    "library(\"tibble\")\n",
    "library(\"forcats\")\n",
    "library(\"stringr\")\n",
    "library(\"readr\")"
   ]
  },
  {
   "cell_type": "code",
   "execution_count": 3,
   "id": "899edc28-4591-409c-91de-d4bf6b6eb165",
   "metadata": {},
   "outputs": [
    {
     "data": {
      "text/html": [
       "<style>\n",
       ".list-inline {list-style: none; margin:0; padding: 0}\n",
       ".list-inline>li {display: inline-block}\n",
       ".list-inline>li:not(:last-child)::after {content: \"\\00b7\"; padding: 0 .5ex}\n",
       "</style>\n",
       "<ol class=list-inline><li>'Info'</li><li>'seedlspe'</li><li>'seedldesign'</li></ol>\n"
      ],
      "text/latex": [
       "\\begin{enumerate*}\n",
       "\\item 'Info'\n",
       "\\item 'seedlspe'\n",
       "\\item 'seedldesign'\n",
       "\\end{enumerate*}\n"
      ],
      "text/markdown": [
       "1. 'Info'\n",
       "2. 'seedlspe'\n",
       "3. 'seedldesign'\n",
       "\n",
       "\n"
      ],
      "text/plain": [
       "[1] \"Info\"        \"seedlspe\"    \"seedldesign\""
      ]
     },
     "metadata": {},
     "output_type": "display_data"
    }
   ],
   "source": [
    "## Download the excel data\n",
    "furl <- \"https://bit.ly/seedlings-example\"\n",
    "td <- tempdir()\n",
    "tf <- tempfile(tmpdir = td, fileext = \".xlsx\")\n",
    "download.file(furl, tf)\n",
    "\n",
    "## list the sheets in the workbook\n",
    "excel_sheets(tf)"
   ]
  },
  {
   "cell_type": "code",
   "execution_count": 4,
   "id": "43ffd961-5d19-4c3f-9872-d9b2e808bf50",
   "metadata": {},
   "outputs": [
    {
     "name": "stderr",
     "output_type": "stream",
     "text": [
      "\u001b[1m\u001b[22mNew names:\n",
      "\u001b[36m•\u001b[39m `` -> `...1`\n",
      "\u001b[1m\u001b[22mNew names:\n",
      "\u001b[36m•\u001b[39m `` -> `...1`\n"
     ]
    }
   ],
   "source": [
    "## read the xlsx file, sheet 2 contains species data, sheet 3 the env\n",
    "spp <- read_xlsx(tf, sheet = \"seedlspe\", skip = 1) %>%\n",
    "  rename(\"sample_id\" = \"...1\") %>%\n",
    "  tibble::column_to_rownames(\"sample_id\")\n",
    "env <- read_xlsx(tf, sheet = \"seedldesign\")%>%\n",
    "  rename(\"sample_id\" = \"...1\") %>%\n",
    "  tibble::column_to_rownames(\"sample_id\")"
   ]
  },
  {
   "cell_type": "code",
   "execution_count": 5,
   "id": "b53551e8-3666-4406-9aea-7bf9c043513e",
   "metadata": {
    "jupyter": {
     "source_hidden": true
    }
   },
   "outputs": [],
   "source": [
    "env <- mutate(env, block = factor(block))"
   ]
  },
  {
   "cell_type": "code",
   "execution_count": 7,
   "id": "16ff855a-6981-47eb-8af9-d72588531e8b",
   "metadata": {},
   "outputs": [
    {
     "data": {
      "text/plain": [
       "\n",
       "Call:\n",
       "decorana(veg = spp) \n",
       "\n",
       "Detrended correspondence analysis with 26 segments.\n",
       "Rescaling of axes with 4 iterations.\n",
       "Total inertia (scaled Chi-square): 1.1534 \n",
       "\n",
       "                       DCA1   DCA2    DCA3    DCA4\n",
       "Eigenvalues          0.1759 0.1898 0.11004 0.05761\n",
       "Additive Eigenvalues 0.1759 0.1898 0.11032 0.05318\n",
       "Decorana values      0.2710 0.1822 0.07219 0.02822\n",
       "Axis lengths         1.9821 1.4140 1.15480 0.87680\n"
      ]
     },
     "metadata": {},
     "output_type": "display_data"
    }
   ],
   "source": [
    "#the gradient lengths are short\n",
    "decorana(spp)"
   ]
  },
  {
   "cell_type": "code",
   "execution_count": 8,
   "id": "8305d95c-847f-4818-829b-dfdbca0a3210",
   "metadata": {},
   "outputs": [
    {
     "data": {
      "text/plain": [
       "Call: rda(formula = spp ~ treatment + Condition(block), data = env)\n",
       "\n",
       "-- Model Summary --\n",
       "\n",
       "               Inertia Proportion Rank\n",
       "Total         990.7875     1.0000     \n",
       "Conditional   166.0708     0.1676    3\n",
       "Constrained   329.8375     0.3329    3\n",
       "Unconstrained 494.8792     0.4995    9\n",
       "\n",
       "Inertia is variance\n",
       "\n",
       "-- Eigenvalues --\n",
       "\n",
       "Eigenvalues for constrained axes:\n",
       "  RDA1   RDA2   RDA3 \n",
       "284.81  30.83  14.20 \n",
       "\n",
       "Eigenvalues for unconstrained axes:\n",
       "   PC1    PC2    PC3    PC4    PC5    PC6    PC7    PC8    PC9 \n",
       "226.83 139.51  72.77  30.11   9.81   9.14   2.80   2.19   1.73 \n"
      ]
     },
     "metadata": {},
     "output_type": "display_data"
    }
   ],
   "source": [
    "#fitting the model, conditioning on block removing between block differences\n",
    "mod1 <- rda(spp ~ treatment + Condition(block), data = env)\n",
    "mod1"
   ]
  },
  {
   "cell_type": "code",
   "execution_count": 9,
   "id": "da4f04b3-4b1e-4ea3-9a55-73b5345c62f7",
   "metadata": {},
   "outputs": [
    {
     "data": {
      "text/html": [
       "<table class=\"dataframe\">\n",
       "<caption>A summary.eigenvals: 3 × 12 of type dbl</caption>\n",
       "<thead>\n",
       "\t<tr><th></th><th scope=col>RDA1</th><th scope=col>RDA2</th><th scope=col>RDA3</th><th scope=col>PC1</th><th scope=col>PC2</th><th scope=col>PC3</th><th scope=col>PC4</th><th scope=col>PC5</th><th scope=col>PC6</th><th scope=col>PC7</th><th scope=col>PC8</th><th scope=col>PC9</th></tr>\n",
       "</thead>\n",
       "<tbody>\n",
       "\t<tr><th scope=row>Eigenvalue</th><td>284.8141304</td><td>30.82540485</td><td>14.19796471</td><td>226.8266190</td><td>139.5119498</td><td>72.7678885</td><td>30.10820354</td><td>9.80812356</td><td>9.13689720</td><td>2.797943101</td><td>2.190943525</td><td>1.730598488</td></tr>\n",
       "\t<tr><th scope=row>Proportion Explained</th><td>  0.3453479</td><td> 0.03737696</td><td> 0.01721557</td><td>  0.2750358</td><td>  0.1691635</td><td> 0.0882338</td><td> 0.03650733</td><td>0.01189272</td><td>0.01107883</td><td>0.003392611</td><td>0.002656601</td><td>0.002098416</td></tr>\n",
       "\t<tr><th scope=row>Cumulative Proportion</th><td>  0.3453479</td><td> 0.38272482</td><td> 0.39994038</td><td>  0.6749762</td><td>  0.8441397</td><td> 0.9323735</td><td> 0.96888082</td><td>0.98077354</td><td>0.99185237</td><td>0.995244983</td><td>0.997901584</td><td>1.000000000</td></tr>\n",
       "</tbody>\n",
       "</table>\n"
      ],
      "text/latex": [
       "A summary.eigenvals: 3 × 12 of type dbl\n",
       "\\begin{tabular}{r|llllllllllll}\n",
       "  & RDA1 & RDA2 & RDA3 & PC1 & PC2 & PC3 & PC4 & PC5 & PC6 & PC7 & PC8 & PC9\\\\\n",
       "\\hline\n",
       "\tEigenvalue & 284.8141304 & 30.82540485 & 14.19796471 & 226.8266190 & 139.5119498 & 72.7678885 & 30.10820354 & 9.80812356 & 9.13689720 & 2.797943101 & 2.190943525 & 1.730598488\\\\\n",
       "\tProportion Explained &   0.3453479 &  0.03737696 &  0.01721557 &   0.2750358 &   0.1691635 &  0.0882338 &  0.03650733 & 0.01189272 & 0.01107883 & 0.003392611 & 0.002656601 & 0.002098416\\\\\n",
       "\tCumulative Proportion &   0.3453479 &  0.38272482 &  0.39994038 &   0.6749762 &   0.8441397 &  0.9323735 &  0.96888082 & 0.98077354 & 0.99185237 & 0.995244983 & 0.997901584 & 1.000000000\\\\\n",
       "\\end{tabular}\n"
      ],
      "text/markdown": [
       "\n",
       "A summary.eigenvals: 3 × 12 of type dbl\n",
       "\n",
       "| <!--/--> | RDA1 | RDA2 | RDA3 | PC1 | PC2 | PC3 | PC4 | PC5 | PC6 | PC7 | PC8 | PC9 |\n",
       "|---|---|---|---|---|---|---|---|---|---|---|---|---|\n",
       "| Eigenvalue | 284.8141304 | 30.82540485 | 14.19796471 | 226.8266190 | 139.5119498 | 72.7678885 | 30.10820354 | 9.80812356 | 9.13689720 | 2.797943101 | 2.190943525 | 1.730598488 |\n",
       "| Proportion Explained |   0.3453479 |  0.03737696 |  0.01721557 |   0.2750358 |   0.1691635 |  0.0882338 |  0.03650733 | 0.01189272 | 0.01107883 | 0.003392611 | 0.002656601 | 0.002098416 |\n",
       "| Cumulative Proportion |   0.3453479 |  0.38272482 |  0.39994038 |   0.6749762 |   0.8441397 |  0.9323735 |  0.96888082 | 0.98077354 | 0.99185237 | 0.995244983 | 0.997901584 | 1.000000000 |\n",
       "\n"
      ],
      "text/plain": [
       "                      RDA1        RDA2        RDA3        PC1        \n",
       "Eigenvalue            284.8141304 30.82540485 14.19796471 226.8266190\n",
       "Proportion Explained    0.3453479  0.03737696  0.01721557   0.2750358\n",
       "Cumulative Proportion   0.3453479  0.38272482  0.39994038   0.6749762\n",
       "                      PC2         PC3        PC4         PC5        PC6       \n",
       "Eigenvalue            139.5119498 72.7678885 30.10820354 9.80812356 9.13689720\n",
       "Proportion Explained    0.1691635  0.0882338  0.03650733 0.01189272 0.01107883\n",
       "Cumulative Proportion   0.8441397  0.9323735  0.96888082 0.98077354 0.99185237\n",
       "                      PC7         PC8         PC9        \n",
       "Eigenvalue            2.797943101 2.190943525 1.730598488\n",
       "Proportion Explained  0.003392611 0.002656601 0.002098416\n",
       "Cumulative Proportion 0.995244983 0.997901584 1.000000000"
      ]
     },
     "metadata": {},
     "output_type": "display_data"
    }
   ],
   "source": [
    "#strong single, linear gradient in the data \n",
    "summary(eigenvals(mod1))"
   ]
  },
  {
   "cell_type": "code",
   "execution_count": 10,
   "id": "243e3e57-ce6c-4338-8095-e5efcf0f4586",
   "metadata": {},
   "outputs": [],
   "source": [
    "#design based permutations \n",
    "#samples permuted only within levels of block (never between)\n",
    "#could use plots instead of blocks but blocks is simpler\n",
    "h <- with(env, how(blocks = block, nperm = 999))"
   ]
  },
  {
   "cell_type": "code",
   "execution_count": 11,
   "id": "f8e14437-532e-4899-ba96-1f138caa504a",
   "metadata": {},
   "outputs": [
    {
     "data": {
      "text/html": [
       "<table class=\"dataframe\">\n",
       "<caption>A anova.cca: 2 × 4</caption>\n",
       "<thead>\n",
       "\t<tr><th></th><th scope=col>Df</th><th scope=col>Variance</th><th scope=col>F</th><th scope=col>Pr(&gt;F)</th></tr>\n",
       "\t<tr><th></th><th scope=col>&lt;dbl&gt;</th><th scope=col>&lt;dbl&gt;</th><th scope=col>&lt;dbl&gt;</th><th scope=col>&lt;dbl&gt;</th></tr>\n",
       "</thead>\n",
       "<tbody>\n",
       "\t<tr><th scope=row>Model</th><td>3</td><td>329.8375</td><td>1.999503</td><td>0.087</td></tr>\n",
       "\t<tr><th scope=row>Residual</th><td>9</td><td>494.8792</td><td>      NA</td><td>   NA</td></tr>\n",
       "</tbody>\n",
       "</table>\n"
      ],
      "text/latex": [
       "A anova.cca: 2 × 4\n",
       "\\begin{tabular}{r|llll}\n",
       "  & Df & Variance & F & Pr(>F)\\\\\n",
       "  & <dbl> & <dbl> & <dbl> & <dbl>\\\\\n",
       "\\hline\n",
       "\tModel & 3 & 329.8375 & 1.999503 & 0.087\\\\\n",
       "\tResidual & 9 & 494.8792 &       NA &    NA\\\\\n",
       "\\end{tabular}\n"
      ],
      "text/markdown": [
       "\n",
       "A anova.cca: 2 × 4\n",
       "\n",
       "| <!--/--> | Df &lt;dbl&gt; | Variance &lt;dbl&gt; | F &lt;dbl&gt; | Pr(&gt;F) &lt;dbl&gt; |\n",
       "|---|---|---|---|---|\n",
       "| Model | 3 | 329.8375 | 1.999503 | 0.087 |\n",
       "| Residual | 9 | 494.8792 |       NA |    NA |\n",
       "\n"
      ],
      "text/plain": [
       "         Df Variance F        Pr(>F)\n",
       "Model    3  329.8375 1.999503 0.087 \n",
       "Residual 9  494.8792       NA    NA "
      ]
     },
     "metadata": {},
     "output_type": "display_data"
    }
   ],
   "source": [
    "set.seed(42)\n",
    "p1 <- anova(mod1, permutations = h, parallel = 3)\n",
    "p1"
   ]
  },
  {
   "cell_type": "code",
   "execution_count": 12,
   "id": "b3756e11-dcb1-44ec-a79e-4c11ec04d770",
   "metadata": {},
   "outputs": [
    {
     "data": {
      "text/html": [
       "<table class=\"dataframe\">\n",
       "<caption>A anova.cca: 4 × 4</caption>\n",
       "<thead>\n",
       "\t<tr><th></th><th scope=col>Df</th><th scope=col>Variance</th><th scope=col>F</th><th scope=col>Pr(&gt;F)</th></tr>\n",
       "\t<tr><th></th><th scope=col>&lt;dbl&gt;</th><th scope=col>&lt;dbl&gt;</th><th scope=col>&lt;dbl&gt;</th><th scope=col>&lt;dbl&gt;</th></tr>\n",
       "</thead>\n",
       "<tbody>\n",
       "\t<tr><th scope=row>RDA1</th><td>1</td><td>284.81413</td><td>5.1797031</td><td>0.062</td></tr>\n",
       "\t<tr><th scope=row>RDA2</th><td>1</td><td> 30.82540</td><td>0.5605988</td><td>0.937</td></tr>\n",
       "\t<tr><th scope=row>RDA3</th><td>1</td><td> 14.19796</td><td>0.2582078</td><td>0.937</td></tr>\n",
       "\t<tr><th scope=row>Residual</th><td>9</td><td>494.87917</td><td>       NA</td><td>   NA</td></tr>\n",
       "</tbody>\n",
       "</table>\n"
      ],
      "text/latex": [
       "A anova.cca: 4 × 4\n",
       "\\begin{tabular}{r|llll}\n",
       "  & Df & Variance & F & Pr(>F)\\\\\n",
       "  & <dbl> & <dbl> & <dbl> & <dbl>\\\\\n",
       "\\hline\n",
       "\tRDA1 & 1 & 284.81413 & 5.1797031 & 0.062\\\\\n",
       "\tRDA2 & 1 &  30.82540 & 0.5605988 & 0.937\\\\\n",
       "\tRDA3 & 1 &  14.19796 & 0.2582078 & 0.937\\\\\n",
       "\tResidual & 9 & 494.87917 &        NA &    NA\\\\\n",
       "\\end{tabular}\n"
      ],
      "text/markdown": [
       "\n",
       "A anova.cca: 4 × 4\n",
       "\n",
       "| <!--/--> | Df &lt;dbl&gt; | Variance &lt;dbl&gt; | F &lt;dbl&gt; | Pr(&gt;F) &lt;dbl&gt; |\n",
       "|---|---|---|---|---|\n",
       "| RDA1 | 1 | 284.81413 | 5.1797031 | 0.062 |\n",
       "| RDA2 | 1 |  30.82540 | 0.5605988 | 0.937 |\n",
       "| RDA3 | 1 |  14.19796 | 0.2582078 | 0.937 |\n",
       "| Residual | 9 | 494.87917 |        NA |    NA |\n",
       "\n"
      ],
      "text/plain": [
       "         Df Variance  F         Pr(>F)\n",
       "RDA1     1  284.81413 5.1797031 0.062 \n",
       "RDA2     1   30.82540 0.5605988 0.937 \n",
       "RDA3     1   14.19796 0.2582078 0.937 \n",
       "Residual 9  494.87917        NA    NA "
      ]
     },
     "metadata": {},
     "output_type": "display_data"
    }
   ],
   "source": [
    "set.seed(24)\n",
    "p1axis <- anova(mod1, permutations = h, parallel = 3, by = \"axis\")\n",
    "p1axis"
   ]
  },
  {
   "cell_type": "code",
   "execution_count": 13,
   "id": "d8f3ed91-3d8d-4281-8cc8-aea2a1c7139d",
   "metadata": {},
   "outputs": [
    {
     "data": {
      "image/png": "[encoded data removed]",
      "text/plain": [
       "plot without title"
      ]
     },
     "metadata": {
      "image/png": {
       "height": 420,
       "width": 420
      }
     },
     "output_type": "display_data"
    }
   ],
   "source": [
    "plot(mod1, display = c(\"species\", \"cn\"), scaling = \"sites\", type = \"n\",\n",
    "     xlim = c(-10.5, 1.5))\n",
    "text(mod1, display = \"species\", scaling = 1, cex = 0.8)\n",
    "text(mod1, display = \"cn\", scaling = 1, col = \"blue\", cex = 1.2,\n",
    "     labels = c(\"Control\", \"Litter+Moss\", \"Litter\", \"Removal\"))"
   ]
  },
  {
   "cell_type": "code",
   "execution_count": 14,
   "id": "632df7b5-169d-4004-bfcc-63f0d1e61b2f",
   "metadata": {},
   "outputs": [
    {
     "data": {
      "text/plain": [
       "NULL"
      ]
     },
     "metadata": {},
     "output_type": "display_data"
    }
   ],
   "source": [
    "setBlocks(h) <- NULL                    # remove blocking\n",
    "getBlocks(h)                            # confirm"
   ]
  },
  {
   "cell_type": "code",
   "execution_count": 15,
   "id": "208932ed-ea7c-4bd0-b911-3a7c60811515",
   "metadata": {},
   "outputs": [
    {
     "data": {
      "text/html": [
       "<table class=\"dataframe\">\n",
       "<caption>A anova.cca: 2 × 4</caption>\n",
       "<thead>\n",
       "\t<tr><th></th><th scope=col>Df</th><th scope=col>Variance</th><th scope=col>F</th><th scope=col>Pr(&gt;F)</th></tr>\n",
       "\t<tr><th></th><th scope=col>&lt;dbl&gt;</th><th scope=col>&lt;dbl&gt;</th><th scope=col>&lt;dbl&gt;</th><th scope=col>&lt;dbl&gt;</th></tr>\n",
       "</thead>\n",
       "<tbody>\n",
       "\t<tr><th scope=row>Model</th><td>3</td><td>329.8375</td><td>1.999503</td><td>0.069</td></tr>\n",
       "\t<tr><th scope=row>Residual</th><td>9</td><td>494.8792</td><td>      NA</td><td>   NA</td></tr>\n",
       "</tbody>\n",
       "</table>\n"
      ],
      "text/latex": [
       "A anova.cca: 2 × 4\n",
       "\\begin{tabular}{r|llll}\n",
       "  & Df & Variance & F & Pr(>F)\\\\\n",
       "  & <dbl> & <dbl> & <dbl> & <dbl>\\\\\n",
       "\\hline\n",
       "\tModel & 3 & 329.8375 & 1.999503 & 0.069\\\\\n",
       "\tResidual & 9 & 494.8792 &       NA &    NA\\\\\n",
       "\\end{tabular}\n"
      ],
      "text/markdown": [
       "\n",
       "A anova.cca: 2 × 4\n",
       "\n",
       "| <!--/--> | Df &lt;dbl&gt; | Variance &lt;dbl&gt; | F &lt;dbl&gt; | Pr(&gt;F) &lt;dbl&gt; |\n",
       "|---|---|---|---|---|\n",
       "| Model | 3 | 329.8375 | 1.999503 | 0.069 |\n",
       "| Residual | 9 | 494.8792 |       NA |    NA |\n",
       "\n"
      ],
      "text/plain": [
       "         Df Variance F        Pr(>F)\n",
       "Model    3  329.8375 1.999503 0.069 \n",
       "Residual 9  494.8792       NA    NA "
      ]
     },
     "metadata": {},
     "output_type": "display_data"
    }
   ],
   "source": [
    "set.seed(51)\n",
    "p2 <- anova(mod1, permutations = h, parallel = 3)\n",
    "p2"
   ]
  },
  {
   "cell_type": "code",
   "execution_count": 16,
   "id": "c1d2e73b-4c85-4f0e-a53f-9827aa5d712a",
   "metadata": {},
   "outputs": [
    {
     "data": {
      "text/html": [
       "<table class=\"dataframe\">\n",
       "<caption>A anova.cca: 4 × 4</caption>\n",
       "<thead>\n",
       "\t<tr><th></th><th scope=col>Df</th><th scope=col>Variance</th><th scope=col>F</th><th scope=col>Pr(&gt;F)</th></tr>\n",
       "\t<tr><th></th><th scope=col>&lt;dbl&gt;</th><th scope=col>&lt;dbl&gt;</th><th scope=col>&lt;dbl&gt;</th><th scope=col>&lt;dbl&gt;</th></tr>\n",
       "</thead>\n",
       "<tbody>\n",
       "\t<tr><th scope=row>RDA1</th><td>1</td><td>284.81413</td><td>5.1797031</td><td>0.051</td></tr>\n",
       "\t<tr><th scope=row>RDA2</th><td>1</td><td> 30.82540</td><td>0.5605988</td><td>0.949</td></tr>\n",
       "\t<tr><th scope=row>RDA3</th><td>1</td><td> 14.19796</td><td>0.2582078</td><td>0.949</td></tr>\n",
       "\t<tr><th scope=row>Residual</th><td>9</td><td>494.87917</td><td>       NA</td><td>   NA</td></tr>\n",
       "</tbody>\n",
       "</table>\n"
      ],
      "text/latex": [
       "A anova.cca: 4 × 4\n",
       "\\begin{tabular}{r|llll}\n",
       "  & Df & Variance & F & Pr(>F)\\\\\n",
       "  & <dbl> & <dbl> & <dbl> & <dbl>\\\\\n",
       "\\hline\n",
       "\tRDA1 & 1 & 284.81413 & 5.1797031 & 0.051\\\\\n",
       "\tRDA2 & 1 &  30.82540 & 0.5605988 & 0.949\\\\\n",
       "\tRDA3 & 1 &  14.19796 & 0.2582078 & 0.949\\\\\n",
       "\tResidual & 9 & 494.87917 &        NA &    NA\\\\\n",
       "\\end{tabular}\n"
      ],
      "text/markdown": [
       "\n",
       "A anova.cca: 4 × 4\n",
       "\n",
       "| <!--/--> | Df &lt;dbl&gt; | Variance &lt;dbl&gt; | F &lt;dbl&gt; | Pr(&gt;F) &lt;dbl&gt; |\n",
       "|---|---|---|---|---|\n",
       "| RDA1 | 1 | 284.81413 | 5.1797031 | 0.051 |\n",
       "| RDA2 | 1 |  30.82540 | 0.5605988 | 0.949 |\n",
       "| RDA3 | 1 |  14.19796 | 0.2582078 | 0.949 |\n",
       "| Residual | 9 | 494.87917 |        NA |    NA |\n",
       "\n"
      ],
      "text/plain": [
       "         Df Variance  F         Pr(>F)\n",
       "RDA1     1  284.81413 5.1797031 0.051 \n",
       "RDA2     1   30.82540 0.5605988 0.949 \n",
       "RDA3     1   14.19796 0.2582078 0.949 \n",
       "Residual 9  494.87917        NA    NA "
      ]
     },
     "metadata": {},
     "output_type": "display_data"
    }
   ],
   "source": [
    "#the estimated p value is slightly smaller now \n",
    "set.seed(83)\n",
    "p2axis <- anova(mod1, permutations = h, parallel = 3, by = \"axis\")\n",
    "p2axis"
   ]
  },
  {
   "cell_type": "code",
   "execution_count": 17,
   "id": "8b5e9be2-c682-4b20-a46a-8c21c4fc69f4",
   "metadata": {},
   "outputs": [
    {
     "data": {
      "text/plain": [
       "Call: rda(formula = spp.norm ~ treatment + Condition(block), data = env)\n",
       "\n",
       "-- Model Summary --\n",
       "\n",
       "              Inertia Proportion Rank\n",
       "Total         0.37262    1.00000     \n",
       "Conditional   0.08138    0.21839    3\n",
       "Constrained   0.07248    0.19450    3\n",
       "Unconstrained 0.21877    0.58711    9\n",
       "\n",
       "Inertia is variance\n",
       "\n",
       "-- Eigenvalues --\n",
       "\n",
       "Eigenvalues for constrained axes:\n",
       "   RDA1    RDA2    RDA3 \n",
       "0.04517 0.01718 0.01012 \n",
       "\n",
       "Eigenvalues for unconstrained axes:\n",
       "    PC1     PC2     PC3     PC4     PC5     PC6     PC7     PC8     PC9 \n",
       "0.08026 0.07074 0.02860 0.01916 0.00989 0.00585 0.00223 0.00167 0.00038 \n"
      ]
     },
     "metadata": {},
     "output_type": "display_data"
    }
   ],
   "source": [
    "spp.norm <- decostand(spp, method = \"normalize\", MARGIN = 1)\n",
    "\n",
    "mod2 <- rda(spp.norm ~ treatment + Condition(block), data = env)\n",
    "mod2"
   ]
  },
  {
   "cell_type": "code",
   "execution_count": 18,
   "id": "9d78729e-0545-4f9c-b0d5-8ef4ac2bfc4e",
   "metadata": {},
   "outputs": [
    {
     "data": {
      "text/html": [
       "<table class=\"dataframe\">\n",
       "<caption>A summary.eigenvals: 3 × 12 of type dbl</caption>\n",
       "<thead>\n",
       "\t<tr><th></th><th scope=col>RDA1</th><th scope=col>RDA2</th><th scope=col>RDA3</th><th scope=col>PC1</th><th scope=col>PC2</th><th scope=col>PC3</th><th scope=col>PC4</th><th scope=col>PC5</th><th scope=col>PC6</th><th scope=col>PC7</th><th scope=col>PC8</th><th scope=col>PC9</th></tr>\n",
       "</thead>\n",
       "<tbody>\n",
       "\t<tr><th scope=row>Eigenvalue</th><td>0.0451738</td><td>0.01717982</td><td>0.01012180</td><td>0.0802592</td><td>0.07073575</td><td>0.02860047</td><td>0.01915606</td><td>0.009893916</td><td>0.005852075</td><td>0.002227851</td><td>0.001665960</td><td>0.0003764604</td></tr>\n",
       "\t<tr><th scope=row>Proportion Explained</th><td>0.1551068</td><td>0.05898787</td><td>0.03475379</td><td>0.2755745</td><td>0.24287524</td><td>0.09820133</td><td>0.06577343</td><td>0.033971326</td><td>0.020093433</td><td>0.007649453</td><td>0.005720169</td><td>0.0012925982</td></tr>\n",
       "\t<tr><th scope=row>Cumulative Proportion</th><td>0.1551068</td><td>0.21409469</td><td>0.24884847</td><td>0.5244230</td><td>0.76729826</td><td>0.86549959</td><td>0.93127302</td><td>0.965244346</td><td>0.985337779</td><td>0.992987232</td><td>0.998707402</td><td>1.0000000000</td></tr>\n",
       "</tbody>\n",
       "</table>\n"
      ],
      "text/latex": [
       "A summary.eigenvals: 3 × 12 of type dbl\n",
       "\\begin{tabular}{r|llllllllllll}\n",
       "  & RDA1 & RDA2 & RDA3 & PC1 & PC2 & PC3 & PC4 & PC5 & PC6 & PC7 & PC8 & PC9\\\\\n",
       "\\hline\n",
       "\tEigenvalue & 0.0451738 & 0.01717982 & 0.01012180 & 0.0802592 & 0.07073575 & 0.02860047 & 0.01915606 & 0.009893916 & 0.005852075 & 0.002227851 & 0.001665960 & 0.0003764604\\\\\n",
       "\tProportion Explained & 0.1551068 & 0.05898787 & 0.03475379 & 0.2755745 & 0.24287524 & 0.09820133 & 0.06577343 & 0.033971326 & 0.020093433 & 0.007649453 & 0.005720169 & 0.0012925982\\\\\n",
       "\tCumulative Proportion & 0.1551068 & 0.21409469 & 0.24884847 & 0.5244230 & 0.76729826 & 0.86549959 & 0.93127302 & 0.965244346 & 0.985337779 & 0.992987232 & 0.998707402 & 1.0000000000\\\\\n",
       "\\end{tabular}\n"
      ],
      "text/markdown": [
       "\n",
       "A summary.eigenvals: 3 × 12 of type dbl\n",
       "\n",
       "| <!--/--> | RDA1 | RDA2 | RDA3 | PC1 | PC2 | PC3 | PC4 | PC5 | PC6 | PC7 | PC8 | PC9 |\n",
       "|---|---|---|---|---|---|---|---|---|---|---|---|---|\n",
       "| Eigenvalue | 0.0451738 | 0.01717982 | 0.01012180 | 0.0802592 | 0.07073575 | 0.02860047 | 0.01915606 | 0.009893916 | 0.005852075 | 0.002227851 | 0.001665960 | 0.0003764604 |\n",
       "| Proportion Explained | 0.1551068 | 0.05898787 | 0.03475379 | 0.2755745 | 0.24287524 | 0.09820133 | 0.06577343 | 0.033971326 | 0.020093433 | 0.007649453 | 0.005720169 | 0.0012925982 |\n",
       "| Cumulative Proportion | 0.1551068 | 0.21409469 | 0.24884847 | 0.5244230 | 0.76729826 | 0.86549959 | 0.93127302 | 0.965244346 | 0.985337779 | 0.992987232 | 0.998707402 | 1.0000000000 |\n",
       "\n"
      ],
      "text/plain": [
       "                      RDA1      RDA2       RDA3       PC1       PC2       \n",
       "Eigenvalue            0.0451738 0.01717982 0.01012180 0.0802592 0.07073575\n",
       "Proportion Explained  0.1551068 0.05898787 0.03475379 0.2755745 0.24287524\n",
       "Cumulative Proportion 0.1551068 0.21409469 0.24884847 0.5244230 0.76729826\n",
       "                      PC3        PC4        PC5         PC6         PC7        \n",
       "Eigenvalue            0.02860047 0.01915606 0.009893916 0.005852075 0.002227851\n",
       "Proportion Explained  0.09820133 0.06577343 0.033971326 0.020093433 0.007649453\n",
       "Cumulative Proportion 0.86549959 0.93127302 0.965244346 0.985337779 0.992987232\n",
       "                      PC8         PC9         \n",
       "Eigenvalue            0.001665960 0.0003764604\n",
       "Proportion Explained  0.005720169 0.0012925982\n",
       "Cumulative Proportion 0.998707402 1.0000000000"
      ]
     },
     "metadata": {},
     "output_type": "display_data"
    }
   ],
   "source": [
    "summary(eigenvals(mod2))"
   ]
  },
  {
   "cell_type": "code",
   "execution_count": 19,
   "id": "105e8063-a385-44b6-b1de-0a28a9007f52",
   "metadata": {},
   "outputs": [
    {
     "data": {
      "text/html": [
       "<table class=\"dataframe\">\n",
       "<caption>A anova.cca: 2 × 4</caption>\n",
       "<thead>\n",
       "\t<tr><th></th><th scope=col>Df</th><th scope=col>Variance</th><th scope=col>F</th><th scope=col>Pr(&gt;F)</th></tr>\n",
       "\t<tr><th></th><th scope=col>&lt;dbl&gt;</th><th scope=col>&lt;dbl&gt;</th><th scope=col>&lt;dbl&gt;</th><th scope=col>&lt;dbl&gt;</th></tr>\n",
       "</thead>\n",
       "<tbody>\n",
       "\t<tr><th scope=row>Model</th><td>3</td><td>0.07247542</td><td>0.9938679</td><td>0.467</td></tr>\n",
       "\t<tr><th scope=row>Residual</th><td>9</td><td>0.21876774</td><td>       NA</td><td>   NA</td></tr>\n",
       "</tbody>\n",
       "</table>\n"
      ],
      "text/latex": [
       "A anova.cca: 2 × 4\n",
       "\\begin{tabular}{r|llll}\n",
       "  & Df & Variance & F & Pr(>F)\\\\\n",
       "  & <dbl> & <dbl> & <dbl> & <dbl>\\\\\n",
       "\\hline\n",
       "\tModel & 3 & 0.07247542 & 0.9938679 & 0.467\\\\\n",
       "\tResidual & 9 & 0.21876774 &        NA &    NA\\\\\n",
       "\\end{tabular}\n"
      ],
      "text/markdown": [
       "\n",
       "A anova.cca: 2 × 4\n",
       "\n",
       "| <!--/--> | Df &lt;dbl&gt; | Variance &lt;dbl&gt; | F &lt;dbl&gt; | Pr(&gt;F) &lt;dbl&gt; |\n",
       "|---|---|---|---|---|\n",
       "| Model | 3 | 0.07247542 | 0.9938679 | 0.467 |\n",
       "| Residual | 9 | 0.21876774 |        NA |    NA |\n",
       "\n"
      ],
      "text/plain": [
       "         Df Variance   F         Pr(>F)\n",
       "Model    3  0.07247542 0.9938679 0.467 \n",
       "Residual 9  0.21876774        NA    NA "
      ]
     },
     "metadata": {},
     "output_type": "display_data"
    }
   ],
   "source": [
    "set.seed(76)\n",
    "anova(mod2, permutations = h, parallel = 3)"
   ]
  },
  {
   "cell_type": "code",
   "execution_count": 3,
   "id": "abcb5d35-9c78-42eb-b23b-d673bd9fdd44",
   "metadata": {},
   "outputs": [],
   "source": [
    "#soil\n",
    "#permutation tests \n",
    "#ectomycorrhizal fungi\n"
   ]
  },
  {
   "cell_type": "code",
   "execution_count": 4,
   "id": "11d82334-44e9-4089-9d33-e6981845ccb1",
   "metadata": {},
   "outputs": [
    {
     "name": "stderr",
     "output_type": "stream",
     "text": [
      "\u001b[1m\u001b[22mNew names:\n",
      "\u001b[36m•\u001b[39m `` -> `...1`\n",
      "\u001b[36m•\u001b[39m `` -> `...2`\n"
     ]
    }
   ],
   "source": [
    "fungi <- read_csv(url(\"https://bit.ly/fungi-spp\"), skip = 1L,\n",
    "    col_types = \"-cddddddddddddddddddddddddddddddddddd\") %>%\n",
    "    mutate(across(Amangemm:Xerosubt, ~ replace_na(.x, 0))) %>%\n",
    "        select(-(Ncarp:Nspec)) %>%\n",
    "        rename(label = \"...2\")"
   ]
  },
  {
   "cell_type": "code",
   "execution_count": 5,
   "id": "03c81918-be51-44e5-9ff1-3ddb5a36ab7f",
   "metadata": {},
   "outputs": [
    {
     "name": "stderr",
     "output_type": "stream",
     "text": [
      "\u001b[1m\u001b[22mNew names:\n",
      "\u001b[36m•\u001b[39m `` -> `...1`\n",
      "\u001b[36m•\u001b[39m `` -> `...2`\n"
     ]
    }
   ],
   "source": [
    "design <- read_csv(url(\"https://bit.ly/fungi-design\"), skip = 1L,\n",
    "    col_types = \"-cccdc\") %>%\n",
    "    rename(label = \"...2\", Treatment = `LH-treat`) %>%\n",
    "        mutate(Treatment = fct_relevel(Treatment, \"C\", after = 0L),\n",
    "            Treatment = fct_recode(Treatment, control = \"C\",\n",
    "                sod_cutting = \"S\", sod_addition = \"A\"),\n",
    "            Stand = factor(Stand),\n",
    "            SoilType = factor(SoilType))"
   ]
  },
  {
   "cell_type": "code",
   "execution_count": 6,
   "id": "5f3e3c83-1058-4d27-beeb-d494c1d9ed69",
   "metadata": {},
   "outputs": [
    {
     "name": "stderr",
     "output_type": "stream",
     "text": [
      "\u001b[1m\u001b[22mJoining with `by = join_by(label)`\n"
     ]
    }
   ],
   "source": [
    "#testing the effects of whole-plot variables\n",
    "#balance the design by delteing all plots from ST5 and 6\n",
    "fungi_bal <- fungi %>%\n",
    "    left_join(design) %>%\n",
    "    filter(Treatment != \"sod_addition\") %>%\n",
    "    select(label:\"Xerosubt\") %>%\n",
    "    mutate(across(-label, ~ log1p(.x))) %>%\n",
    "    column_to_rownames(\"label\")"
   ]
  },
  {
   "cell_type": "code",
   "execution_count": 7,
   "id": "9f59ca32-7ed7-44e0-bf44-812d9fba8b9d",
   "metadata": {},
   "outputs": [],
   "source": [
    "design_bal <- design %>%\n",
    "    filter(Treatment != \"sod_addition\") %>%\n",
    "    column_to_rownames(\"label\")"
   ]
  },
  {
   "cell_type": "code",
   "execution_count": 8,
   "id": "8d1a605e-7313-4c8e-add5-b12676a6bb31",
   "metadata": {},
   "outputs": [
    {
     "data": {
      "text/plain": [
       "Call: rda(formula = fungi_bal ~ Age + SoilType, data = design_bal)\n",
       "\n",
       "-- Model Summary --\n",
       "\n",
       "              Inertia Proportion Rank\n",
       "Total         27.4042     1.0000     \n",
       "Constrained    7.8451     0.2863    2\n",
       "Unconstrained 19.5591     0.7137   31\n",
       "\n",
       "Inertia is variance\n",
       "\n",
       "-- Eigenvalues --\n",
       "\n",
       "Eigenvalues for constrained axes:\n",
       " RDA1  RDA2 \n",
       "6.393 1.453 \n",
       "\n",
       "Eigenvalues for unconstrained axes:\n",
       "  PC1   PC2   PC3   PC4   PC5   PC6   PC7   PC8 \n",
       "7.208 4.524 2.071 1.490 0.908 0.820 0.747 0.479 \n",
       "(Showing 8 of 31 unconstrained eigenvalues)\n"
      ]
     },
     "metadata": {},
     "output_type": "display_data"
    }
   ],
   "source": [
    "#fit the RDA using the two variables that vary at the stand level\n",
    "m1 <- rda(fungi_bal ~ Age + SoilType, data = design_bal)\n",
    "m1"
   ]
  },
  {
   "cell_type": "code",
   "execution_count": 9,
   "id": "6d625a32-a6a7-49bc-bdb7-dc4644157eae",
   "metadata": {},
   "outputs": [
    {
     "data": {
      "text/html": [
       "<dl>\n",
       "\t<dt>$r.squared</dt>\n",
       "\t\t<dd>0.286272941178117</dd>\n",
       "\t<dt>$adj.r.squared</dt>\n",
       "\t\t<dd>0.254551738563811</dd>\n",
       "</dl>\n"
      ],
      "text/latex": [
       "\\begin{description}\n",
       "\\item[\\$r.squared] 0.286272941178117\n",
       "\\item[\\$adj.r.squared] 0.254551738563811\n",
       "\\end{description}\n"
      ],
      "text/markdown": [
       "$r.squared\n",
       ":   0.286272941178117\n",
       "$adj.r.squared\n",
       ":   0.254551738563811\n",
       "\n",
       "\n"
      ],
      "text/plain": [
       "$r.squared\n",
       "[1] 0.2862729\n",
       "\n",
       "$adj.r.squared\n",
       "[1] 0.2545517\n"
      ]
     },
     "metadata": {},
     "output_type": "display_data"
    }
   ],
   "source": [
    "RsquareAdj(m1)"
   ]
  },
  {
   "cell_type": "code",
   "execution_count": 11,
   "id": "966fd415-4515-4918-9993-ee15264368a0",
   "metadata": {},
   "outputs": [],
   "source": [
    "#permute the whole plot while leaving the split plots (samples within the whole plots) unpermuted \n",
    "whole_h <- with(design_bal,\n",
    "    how(plots = Plots(Stand, type = \"free\"),\n",
    "        within = Within(type = \"none\", constant = FALSE),\n",
    "        nperm = 999))"
   ]
  },
  {
   "cell_type": "code",
   "execution_count": 12,
   "id": "9d9c4857-258f-43af-9ba4-e11d56e5ec87",
   "metadata": {},
   "outputs": [
    {
     "name": "stderr",
     "output_type": "stream",
     "text": [
      "'nperm' >= set of all permutations: complete enumeration.\n",
      "\n",
      "Set of permutations < 'minperm'. Generating entire set.\n",
      "\n"
     ]
    },
    {
     "data": {
      "text/html": [
       "<table class=\"dataframe\">\n",
       "<caption>A anova.cca: 2 × 4</caption>\n",
       "<thead>\n",
       "\t<tr><th></th><th scope=col>Df</th><th scope=col>Variance</th><th scope=col>F</th><th scope=col>Pr(&gt;F)</th></tr>\n",
       "\t<tr><th></th><th scope=col>&lt;dbl&gt;</th><th scope=col>&lt;dbl&gt;</th><th scope=col>&lt;dbl&gt;</th><th scope=col>&lt;dbl&gt;</th></tr>\n",
       "</thead>\n",
       "<tbody>\n",
       "\t<tr><th scope=row>Model</th><td> 2</td><td> 7.845089</td><td>9.024656</td><td>0.1097222</td></tr>\n",
       "\t<tr><th scope=row>Residual</th><td>45</td><td>19.559138</td><td>      NA</td><td>       NA</td></tr>\n",
       "</tbody>\n",
       "</table>\n"
      ],
      "text/latex": [
       "A anova.cca: 2 × 4\n",
       "\\begin{tabular}{r|llll}\n",
       "  & Df & Variance & F & Pr(>F)\\\\\n",
       "  & <dbl> & <dbl> & <dbl> & <dbl>\\\\\n",
       "\\hline\n",
       "\tModel &  2 &  7.845089 & 9.024656 & 0.1097222\\\\\n",
       "\tResidual & 45 & 19.559138 &       NA &        NA\\\\\n",
       "\\end{tabular}\n"
      ],
      "text/markdown": [
       "\n",
       "A anova.cca: 2 × 4\n",
       "\n",
       "| <!--/--> | Df &lt;dbl&gt; | Variance &lt;dbl&gt; | F &lt;dbl&gt; | Pr(&gt;F) &lt;dbl&gt; |\n",
       "|---|---|---|---|---|\n",
       "| Model |  2 |  7.845089 | 9.024656 | 0.1097222 |\n",
       "| Residual | 45 | 19.559138 |       NA |        NA |\n",
       "\n"
      ],
      "text/plain": [
       "         Df Variance  F        Pr(>F)   \n",
       "Model     2  7.845089 9.024656 0.1097222\n",
       "Residual 45 19.559138       NA        NA"
      ]
     },
     "metadata": {},
     "output_type": "display_data"
    }
   ],
   "source": [
    "set.seed(42)\n",
    "anova(m1, permutations = whole_h)"
   ]
  },
  {
   "cell_type": "code",
   "execution_count": 13,
   "id": "d6fd86c1-95e5-45ef-a281-e5472b40bd13",
   "metadata": {},
   "outputs": [
    {
     "data": {
      "text/plain": [
       "Call: rda(formula = fungi_bal ~ Age + Condition(SoilType), data =\n",
       "design_bal)\n",
       "\n",
       "-- Model Summary --\n",
       "\n",
       "               Inertia Proportion Rank\n",
       "Total         27.40423    1.00000     \n",
       "Conditional    1.60791    0.05867    1\n",
       "Constrained    6.23718    0.22760    1\n",
       "Unconstrained 19.55914    0.71373   31\n",
       "\n",
       "Inertia is variance\n",
       "\n",
       "-- Eigenvalues --\n",
       "\n",
       "Eigenvalues for constrained axes:\n",
       " RDA1 \n",
       "6.237 \n",
       "\n",
       "Eigenvalues for unconstrained axes:\n",
       "  PC1   PC2   PC3   PC4   PC5   PC6   PC7   PC8 \n",
       "7.208 4.524 2.071 1.490 0.908 0.820 0.747 0.479 \n",
       "(Showing 8 of 31 unconstrained eigenvalues)\n"
      ]
     },
     "metadata": {},
     "output_type": "display_data"
    }
   ],
   "source": [
    "#testing the effects of stand age adjusting for soil type\n",
    "#fit an rda to estimate the effect of age and adjusting for effect of soiltype\n",
    "m2 <- rda(fungi_bal ~ Age + Condition(SoilType), data = design_bal)\n",
    "m2\n"
   ]
  },
  {
   "cell_type": "code",
   "execution_count": 14,
   "id": "319edba6-dd37-4f22-95fc-67be4017db0d",
   "metadata": {},
   "outputs": [
    {
     "name": "stderr",
     "output_type": "stream",
     "text": [
      "'nperm' >= set of all permutations: complete enumeration.\n",
      "\n",
      "Set of permutations < 'minperm'. Generating entire set.\n",
      "\n"
     ]
    },
    {
     "data": {
      "text/html": [
       "<table class=\"dataframe\">\n",
       "<caption>A anova.cca: 2 × 4</caption>\n",
       "<thead>\n",
       "\t<tr><th></th><th scope=col>Df</th><th scope=col>Variance</th><th scope=col>F</th><th scope=col>Pr(&gt;F)</th></tr>\n",
       "\t<tr><th></th><th scope=col>&lt;dbl&gt;</th><th scope=col>&lt;dbl&gt;</th><th scope=col>&lt;dbl&gt;</th><th scope=col>&lt;dbl&gt;</th></tr>\n",
       "</thead>\n",
       "<tbody>\n",
       "\t<tr><th scope=row>Model</th><td> 1</td><td> 6.237182</td><td>14.34998</td><td>0.07638889</td></tr>\n",
       "\t<tr><th scope=row>Residual</th><td>45</td><td>19.559138</td><td>      NA</td><td>        NA</td></tr>\n",
       "</tbody>\n",
       "</table>\n"
      ],
      "text/latex": [
       "A anova.cca: 2 × 4\n",
       "\\begin{tabular}{r|llll}\n",
       "  & Df & Variance & F & Pr(>F)\\\\\n",
       "  & <dbl> & <dbl> & <dbl> & <dbl>\\\\\n",
       "\\hline\n",
       "\tModel &  1 &  6.237182 & 14.34998 & 0.07638889\\\\\n",
       "\tResidual & 45 & 19.559138 &       NA &         NA\\\\\n",
       "\\end{tabular}\n"
      ],
      "text/markdown": [
       "\n",
       "A anova.cca: 2 × 4\n",
       "\n",
       "| <!--/--> | Df &lt;dbl&gt; | Variance &lt;dbl&gt; | F &lt;dbl&gt; | Pr(&gt;F) &lt;dbl&gt; |\n",
       "|---|---|---|---|---|\n",
       "| Model |  1 |  6.237182 | 14.34998 | 0.07638889 |\n",
       "| Residual | 45 | 19.559138 |       NA |         NA |\n",
       "\n"
      ],
      "text/plain": [
       "         Df Variance  F        Pr(>F)    \n",
       "Model     1  6.237182 14.34998 0.07638889\n",
       "Residual 45 19.559138       NA         NA"
      ]
     },
     "metadata": {},
     "output_type": "display_data"
    }
   ],
   "source": [
    "#restricted permutation to test the effects of age adjusted for soil type\n",
    "set.seed(42)\n",
    "anova(m2, permutations = whole_h)"
   ]
  },
  {
   "cell_type": "code",
   "execution_count": 15,
   "id": "89c84dfb-d1ae-42cf-9202-c42843349494",
   "metadata": {},
   "outputs": [],
   "source": [
    "#test the effects of treatmet on the abundance of the fungi\n",
    "#randomizing samples within blocks and keep block fixed \n",
    "fungi_all <- fungi %>%\n",
    "    mutate(across(-label, ~ log1p(.x))) %>%\n",
    "    column_to_rownames(\"label\")\n",
    "\n",
    "design_all <- design %>%\n",
    "    column_to_rownames(\"label\")"
   ]
  },
  {
   "cell_type": "code",
   "execution_count": 17,
   "id": "136af760-505e-48dc-95a6-2a80f08a4341",
   "metadata": {},
   "outputs": [
    {
     "data": {
      "text/plain": [
       "Call: rda(formula = fungi_all ~ Treatment + Condition(Stand), data =\n",
       "design_all)\n",
       "\n",
       "-- Model Summary --\n",
       "\n",
       "              Inertia Proportion Rank\n",
       "Total         25.1883     1.0000     \n",
       "Conditional   11.1065     0.4409    5\n",
       "Constrained    5.0201     0.1993    2\n",
       "Unconstrained  9.0617     0.3598   31\n",
       "\n",
       "Inertia is variance\n",
       "\n",
       "-- Eigenvalues --\n",
       "\n",
       "Eigenvalues for constrained axes:\n",
       " RDA1  RDA2 \n",
       "4.871 0.149 \n",
       "\n",
       "Eigenvalues for unconstrained axes:\n",
       "   PC1    PC2    PC3    PC4    PC5    PC6    PC7    PC8 \n",
       "1.8502 1.5930 1.3938 0.9987 0.7120 0.5380 0.5085 0.3620 \n",
       "(Showing 8 of 31 unconstrained eigenvalues)\n"
      ]
     },
     "metadata": {},
     "output_type": "display_data"
    }
   ],
   "source": [
    "#rda to estimate the effect of the treatment while adjusting for the dependence structure\n",
    "m3 <- rda(fungi_all ~ Treatment + Condition(Stand), data = design_all)\n",
    "\n",
    "m3"
   ]
  },
  {
   "cell_type": "code",
   "execution_count": 18,
   "id": "e4f66820-bba5-4c73-b68f-ee21cdfe3050",
   "metadata": {},
   "outputs": [],
   "source": [
    "split_h <- with(design_all,\n",
    "    how(blocks = Stand,\n",
    "        within = Within(type = \"free\"),\n",
    "        nperm = 999))"
   ]
  },
  {
   "cell_type": "code",
   "execution_count": 19,
   "id": "7e3ff3ca-d84a-4585-965b-4ae04f9908f1",
   "metadata": {},
   "outputs": [
    {
     "data": {
      "text/html": [
       "<table class=\"dataframe\">\n",
       "<caption>A anova.cca: 2 × 4</caption>\n",
       "<thead>\n",
       "\t<tr><th></th><th scope=col>Df</th><th scope=col>Variance</th><th scope=col>F</th><th scope=col>Pr(&gt;F)</th></tr>\n",
       "\t<tr><th></th><th scope=col>&lt;dbl&gt;</th><th scope=col>&lt;dbl&gt;</th><th scope=col>&lt;dbl&gt;</th><th scope=col>&lt;dbl&gt;</th></tr>\n",
       "</thead>\n",
       "<tbody>\n",
       "\t<tr><th scope=row>Model</th><td> 2</td><td>5.020103</td><td>15.51182</td><td>0.001</td></tr>\n",
       "\t<tr><th scope=row>Residual</th><td>56</td><td>9.061661</td><td>      NA</td><td>   NA</td></tr>\n",
       "</tbody>\n",
       "</table>\n"
      ],
      "text/latex": [
       "A anova.cca: 2 × 4\n",
       "\\begin{tabular}{r|llll}\n",
       "  & Df & Variance & F & Pr(>F)\\\\\n",
       "  & <dbl> & <dbl> & <dbl> & <dbl>\\\\\n",
       "\\hline\n",
       "\tModel &  2 & 5.020103 & 15.51182 & 0.001\\\\\n",
       "\tResidual & 56 & 9.061661 &       NA &    NA\\\\\n",
       "\\end{tabular}\n"
      ],
      "text/markdown": [
       "\n",
       "A anova.cca: 2 × 4\n",
       "\n",
       "| <!--/--> | Df &lt;dbl&gt; | Variance &lt;dbl&gt; | F &lt;dbl&gt; | Pr(&gt;F) &lt;dbl&gt; |\n",
       "|---|---|---|---|---|\n",
       "| Model |  2 | 5.020103 | 15.51182 | 0.001 |\n",
       "| Residual | 56 | 9.061661 |       NA |    NA |\n",
       "\n"
      ],
      "text/plain": [
       "         Df Variance F        Pr(>F)\n",
       "Model     2 5.020103 15.51182 0.001 \n",
       "Residual 56 9.061661       NA    NA "
      ]
     },
     "metadata": {},
     "output_type": "display_data"
    }
   ],
   "source": [
    "set.seed(42)\n",
    "anova(m3, permutations = split_h)"
   ]
  },
  {
   "cell_type": "code",
   "execution_count": 20,
   "id": "af082e6b-b5c0-4b13-98d9-8103ec7a3d2e",
   "metadata": {},
   "outputs": [
    {
     "name": "stderr",
     "output_type": "stream",
     "text": [
      "\n",
      "Some constraints or conditions were aliased because they were redundant. This\n",
      "can happen if terms are linearly dependent (collinear): ‘SoilTypepodzol’,\n",
      "‘Treatmentsod_cutting:Age’\n",
      "\n"
     ]
    },
    {
     "data": {
      "text/plain": [
       "Call: rda(formula = fungi_all ~ Treatment:Age + Condition(Stand + Treatment\n",
       "+ Treatment * SoilType), data = design_all)\n",
       "\n",
       "-- Model Summary --\n",
       "\n",
       "               Inertia Proportion Rank\n",
       "Total         25.18831    1.00000     \n",
       "Conditional   16.71618    0.66365    9\n",
       "Constrained    0.96202    0.03819    2\n",
       "Unconstrained  7.51011    0.29816   31\n",
       "\n",
       "Inertia is variance\n",
       "\n",
       "-- Note --\n",
       "\n",
       "Some constraints or conditions were aliased because they were redundant.\n",
       "This can happen if terms are linearly dependent (collinear):\n",
       "‘SoilTypepodzol’, ‘Treatmentsod_cutting:Age’\n",
       "\n",
       "-- Eigenvalues --\n",
       "\n",
       "Eigenvalues for constrained axes:\n",
       "  RDA1   RDA2 \n",
       "0.8105 0.1515 \n",
       "\n",
       "Eigenvalues for unconstrained axes:\n",
       "   PC1    PC2    PC3    PC4    PC5    PC6    PC7    PC8 \n",
       "1.5265 1.3627 0.9535 0.8659 0.5603 0.5044 0.3872 0.3433 \n",
       "(Showing 8 of 31 unconstrained eigenvalues)\n"
      ]
     },
     "metadata": {},
     "output_type": "display_data"
    }
   ],
   "source": [
    "m4 <- rda(fungi_all ~ Treatment:Age + \n",
    "            Condition(Stand + Treatment + Treatment * SoilType),\n",
    "          data = design_all)\n",
    "m4"
   ]
  },
  {
   "cell_type": "code",
   "execution_count": 21,
   "id": "a9fbeaec-1621-45a1-9b6c-d47b8425176b",
   "metadata": {},
   "outputs": [
    {
     "data": {
      "text/html": [
       "<table class=\"dataframe\">\n",
       "<caption>A anova.cca: 2 × 4</caption>\n",
       "<thead>\n",
       "\t<tr><th></th><th scope=col>Df</th><th scope=col>Variance</th><th scope=col>F</th><th scope=col>Pr(&gt;F)</th></tr>\n",
       "\t<tr><th></th><th scope=col>&lt;dbl&gt;</th><th scope=col>&lt;dbl&gt;</th><th scope=col>&lt;dbl&gt;</th><th scope=col>&lt;dbl&gt;</th></tr>\n",
       "</thead>\n",
       "<tbody>\n",
       "\t<tr><th scope=row>Model</th><td> 2</td><td>0.9620197</td><td>3.330511</td><td>0.001</td></tr>\n",
       "\t<tr><th scope=row>Residual</th><td>52</td><td>7.5101124</td><td>      NA</td><td>   NA</td></tr>\n",
       "</tbody>\n",
       "</table>\n"
      ],
      "text/latex": [
       "A anova.cca: 2 × 4\n",
       "\\begin{tabular}{r|llll}\n",
       "  & Df & Variance & F & Pr(>F)\\\\\n",
       "  & <dbl> & <dbl> & <dbl> & <dbl>\\\\\n",
       "\\hline\n",
       "\tModel &  2 & 0.9620197 & 3.330511 & 0.001\\\\\n",
       "\tResidual & 52 & 7.5101124 &       NA &    NA\\\\\n",
       "\\end{tabular}\n"
      ],
      "text/markdown": [
       "\n",
       "A anova.cca: 2 × 4\n",
       "\n",
       "| <!--/--> | Df &lt;dbl&gt; | Variance &lt;dbl&gt; | F &lt;dbl&gt; | Pr(&gt;F) &lt;dbl&gt; |\n",
       "|---|---|---|---|---|\n",
       "| Model |  2 | 0.9620197 | 3.330511 | 0.001 |\n",
       "| Residual | 52 | 7.5101124 |       NA |    NA |\n",
       "\n"
      ],
      "text/plain": [
       "         Df Variance  F        Pr(>F)\n",
       "Model     2 0.9620197 3.330511 0.001 \n",
       "Residual 52 7.5101124       NA    NA "
      ]
     },
     "metadata": {},
     "output_type": "display_data"
    }
   ],
   "source": [
    "anova(m4, permutations = split_h)"
   ]
  },
  {
   "cell_type": "code",
   "execution_count": 22,
   "id": "eddfd1f5-e93f-4336-a2b9-88ad398a149f",
   "metadata": {},
   "outputs": [
    {
     "name": "stderr",
     "output_type": "stream",
     "text": [
      "\n",
      "Some constraints or conditions were aliased because they were redundant. This\n",
      "can happen if terms are linearly dependent (collinear): ‘SoilTypepodzol’,\n",
      "‘Age’, ‘Treatmentsod_addition’, ‘Treatmentsod_cutting’\n",
      "\n"
     ]
    }
   ],
   "source": [
    "m4 <- rda(fungi_all ~ Age + Treatment + Treatment:Age + \n",
    "            Condition(Stand + SoilType + Treatment:SoilType),\n",
    "          data = design_all)"
   ]
  },
  {
   "cell_type": "code",
   "execution_count": 23,
   "id": "934d08c9-aa15-4146-9bb3-4890d86e0d93",
   "metadata": {},
   "outputs": [
    {
     "data": {
      "text/html": [
       "<table class=\"dataframe\">\n",
       "<caption>A anova.cca: 2 × 4</caption>\n",
       "<thead>\n",
       "\t<tr><th></th><th scope=col>Df</th><th scope=col>Variance</th><th scope=col>F</th><th scope=col>Pr(&gt;F)</th></tr>\n",
       "\t<tr><th></th><th scope=col>&lt;dbl&gt;</th><th scope=col>&lt;dbl&gt;</th><th scope=col>&lt;dbl&gt;</th><th scope=col>&lt;dbl&gt;</th></tr>\n",
       "</thead>\n",
       "<tbody>\n",
       "\t<tr><th scope=row>Age:Treatment</th><td> 2</td><td>0.9620197</td><td>3.330511</td><td>0.001</td></tr>\n",
       "\t<tr><th scope=row>Residual</th><td>52</td><td>7.5101124</td><td>      NA</td><td>   NA</td></tr>\n",
       "</tbody>\n",
       "</table>\n"
      ],
      "text/latex": [
       "A anova.cca: 2 × 4\n",
       "\\begin{tabular}{r|llll}\n",
       "  & Df & Variance & F & Pr(>F)\\\\\n",
       "  & <dbl> & <dbl> & <dbl> & <dbl>\\\\\n",
       "\\hline\n",
       "\tAge:Treatment &  2 & 0.9620197 & 3.330511 & 0.001\\\\\n",
       "\tResidual & 52 & 7.5101124 &       NA &    NA\\\\\n",
       "\\end{tabular}\n"
      ],
      "text/markdown": [
       "\n",
       "A anova.cca: 2 × 4\n",
       "\n",
       "| <!--/--> | Df &lt;dbl&gt; | Variance &lt;dbl&gt; | F &lt;dbl&gt; | Pr(&gt;F) &lt;dbl&gt; |\n",
       "|---|---|---|---|---|\n",
       "| Age:Treatment |  2 | 0.9620197 | 3.330511 | 0.001 |\n",
       "| Residual | 52 | 7.5101124 |       NA |    NA |\n",
       "\n"
      ],
      "text/plain": [
       "              Df Variance  F        Pr(>F)\n",
       "Age:Treatment  2 0.9620197 3.330511 0.001 \n",
       "Residual      52 7.5101124       NA    NA "
      ]
     },
     "metadata": {},
     "output_type": "display_data"
    }
   ],
   "source": [
    "anova(m4, permutations = split_h, by = \"margin\")"
   ]
  },
  {
   "cell_type": "code",
   "execution_count": null,
   "id": "0e036dad-d35a-4324-9cbf-f8f955397231",
   "metadata": {},
   "outputs": [],
   "source": []
  }
 ],
 "metadata": {
  "kernelspec": {
   "display_name": "R",
   "language": "R",
   "name": "ir"
  },
  "language_info": {
   "codemirror_mode": "r",
   "file_extension": ".r",
   "mimetype": "text/x-r-source",
   "name": "R",
   "pygments_lexer": "r",
   "version": "4.3.3"
  }
 },
 "nbformat": 4,
 "nbformat_minor": 5
}
